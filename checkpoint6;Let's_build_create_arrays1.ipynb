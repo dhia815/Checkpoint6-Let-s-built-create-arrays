{
 "cells": [
  {
   "cell_type": "code",
   "execution_count": 2,
   "id": "eae51a86",
   "metadata": {
    "scrolled": false
   },
   "outputs": [
    {
     "data": {
      "text/plain": [
       "[[1, 2, 3, 4, 5], [11, 12, 13, 14, 15]]"
      ]
     },
     "execution_count": 2,
     "metadata": {},
     "output_type": "execute_result"
    }
   ],
   "source": [
    "# Question 1:\n",
    "import numpy as np\n",
    "def array_to_list(array):\n",
    "    return array.tolist()\n",
    "A = np.array([[1, 2, 3, 4, 5],[11, 12, 13, 14, 15]])\n",
    "array_to_list(A)"
   ]
  },
  {
   "cell_type": "code",
   "execution_count": 4,
   "id": "286e089a",
   "metadata": {},
   "outputs": [
    {
     "name": "stdout",
     "output_type": "stream",
     "text": [
      "The sum of the diagonal elements of the given array is 65\n",
      "The sum of the diagonal elements of the given array is 65\n",
      "The sum of the diagonal elements of the given array is 65\n"
     ]
    }
   ],
   "source": [
    "# Question 2:\n",
    "\n",
    "# method 1(manually):\n",
    "import numpy as np\n",
    "def the_sum_of_diagonal_elements1(array):\n",
    "    shape = array.shape\n",
    "    x = 0\n",
    "    result = 0\n",
    "    while x < shape[0]:\n",
    "        result += array[x, x]\n",
    "        x+= 1\n",
    "    print(\"The sum of the diagonal elements of the given array is\", result)\n",
    "\n",
    "# method 2(diag function):\n",
    "def the_sum_of_diagonal_elements2(array):\n",
    "    result = 0\n",
    "    for i in np.diag(array):\n",
    "        result += i\n",
    "    print(\"The sum of the diagonal elements of the given array is\", result)\n",
    "\n",
    "# method 3(trace function):\n",
    "def the_sum_of_diagonal_elements3(array):\n",
    "    print(\"The sum of the diagonal elements of the given array is\",np.trace(array))\n",
    "\n",
    "\n",
    "A = np.array([[1, 2, 3, 4, 5],\n",
    "                  [6, 7, 8, 9, 10],\n",
    "                  [11, 12, 13, 14, 15],\n",
    "                  [16, 17, 18, 19, 20],\n",
    "                  [21, 22, 23, 24, 25]])\n",
    "the_sum_of_diagonal_elements1(A)\n",
    "the_sum_of_diagonal_elements2(A)\n",
    "the_sum_of_diagonal_elements3(A)"
   ]
  },
  {
   "cell_type": "code",
   "execution_count": 5,
   "id": "01dd78fe",
   "metadata": {},
   "outputs": [
    {
     "name": "stdout",
     "output_type": "stream",
     "text": [
      "X = 5\n",
      "The values which are higher than x are [6, 7, 8, 9, 10, 11, 12, 13, 14, 15, 16, 17, 18, 19, 20, 21, 22, 23, 24, 25]\n"
     ]
    }
   ],
   "source": [
    "# Question 3:\n",
    "def get_values_higher_than_x(array):    \n",
    "    result = []\n",
    "    if array.ndim == 3:\n",
    "        x = int(input(\"X = \"))\n",
    "        for i in range (Array.shape[0]):\n",
    "            for j in range (Array.shape[1]):\n",
    "                for n in range (Array.shape[2]):\n",
    "                    if Array [i, j, n] > x:\n",
    "                        result.append(Array [i, j, n],)\n",
    "    if array.ndim == 2:\n",
    "        x = int(input(\"X = \"))\n",
    "        for i in range (Array.shape[0]):\n",
    "            for j in range (Array.shape[1]):\n",
    "                if Array [i, j] > x:\n",
    "                    result.append(Array [i, j],)\n",
    "    if array.ndim == 1:\n",
    "        x = int(input(\"X = \"))\n",
    "        for i in range (Array.shape[0]):\n",
    "            if Array [i] > x:\n",
    "                result.append(Array [i])\n",
    "    print(\"The values which are higher than x are\", result)\n",
    "Array = np.array([[1, 2, 3, 4, 5],\n",
    "                  [6, 7, 8, 9, 10],\n",
    "                  [11, 12, 13, 14, 15],\n",
    "                  [16, 17, 18, 19, 20],\n",
    "                  [21, 22, 23, 24, 25]])\n",
    "get_values_higher_than_x(Array)"
   ]
  },
  {
   "cell_type": "code",
   "execution_count": 15,
   "id": "69cd4d6d",
   "metadata": {},
   "outputs": [
    {
     "name": "stdout",
     "output_type": "stream",
     "text": [
      "the result of the first method is [[ 6  8 10 12 14]\n",
      " [16 18 20 22 24]\n",
      " [26 28 30 32 34]\n",
      " [36 38 40 42 44]\n",
      " [46 48 50 52 54]]\n",
      "the result of the second method is [[ 6  8 10 12 14]\n",
      " [16 18 20 22 24]\n",
      " [26 28 30 32 34]\n",
      " [36 38 40 42 44]\n",
      " [46 48 50 52 54]]\n",
      "the result of the third method is [[ 6  8 10 12 14]\n",
      " [16 18 20 22 24]\n",
      " [26 28 30 32 34]\n",
      " [36 38 40 42 44]\n",
      " [46 48 50 52 54]]\n"
     ]
    }
   ],
   "source": [
    "# Question 4:\n",
    "A = np.array([[1, 2, 3, 4, 5],\n",
    "                  [6, 7, 8, 9, 10],\n",
    "                  [11, 12, 13, 14, 15],\n",
    "                  [16, 17, 18, 19, 20],\n",
    "                  [21, 22, 23, 24, 25]])\n",
    "B = np.array([[5, 6, 7, 8, 9],\n",
    "                  [10, 11, 12, 13, 14],\n",
    "                  [15, 16, 17, 18, 19],\n",
    "                  [20, 21, 22, 23, 24],\n",
    "                  [25, 26, 27, 28, 29]])\n",
    "# method 1 (using built in function):\n",
    "def array_addition1(array1, array2):\n",
    "    return array1 + array2\n",
    "\n",
    "# method 2 (using built in function):\n",
    "def array_addition2(array1, array2):\n",
    "    return np.add(array1,array2)\n",
    "    \n",
    "# method 3 (manually):\n",
    "def array_addition3(array1, array2):\n",
    "    array_result = array1\n",
    "    for i in range (array1.shape[0]):\n",
    "        for j in range (array1.shape[1]):\n",
    "            array_result[i, j] = array1[i, j] + array2[i, j]\n",
    "    return array_result\n",
    "C1 = array_addition1(A, B)\n",
    "C2 = array_addition2(A, B)\n",
    "C3 = array_addition3(A, B)\n",
    "print (\"the result of the first method is\", C1)\n",
    "print (\"the result of the second method is\", C2)\n",
    "print (\"the result of the third method is\", C3)"
   ]
  },
  {
   "cell_type": "code",
   "execution_count": 2,
   "id": "bcab97a7",
   "metadata": {},
   "outputs": [
    {
     "name": "stdout",
     "output_type": "stream",
     "text": [
      "This is an the initial array:  [[11 20 21  8]\n",
      " [ 1  9  1 11]\n",
      " [12  1 11  9]\n",
      " [ 9 19 20  3]\n",
      " [21 13 10  2]]\n",
      "This is the final array after substracting the mean of each row from each element in it [[11 20 21  8]\n",
      " [ 1  9  1 11]\n",
      " [12  1 11  9]\n",
      " [ 9 19 20  3]\n",
      " [21 13 10  2]]\n"
     ]
    }
   ],
   "source": [
    "# Question 5:\n",
    "import numpy as np\n",
    "def substracting_the_mean_of_each_row_from_each_element_in_it(array):\n",
    "    array = array.astype(np.float64)\n",
    "    print(\"This is an the initial array: \", a)\n",
    "    for i in array:\n",
    "        mean_row = np.mean(i)\n",
    "        i -= mean_row\n",
    "    print(\"This is the final array after substracting the mean of each row from each element in it\", a)\n",
    "\n",
    "\n",
    "a = np.random.randint(1, 22, (5,4))\n",
    "substracting_the_mean_of_each_row_from_each_element_in_it(a)"
   ]
  },
  {
   "cell_type": "code",
   "execution_count": null,
   "id": "e8c41685",
   "metadata": {},
   "outputs": [],
   "source": []
  }
 ],
 "metadata": {
  "kernelspec": {
   "display_name": "Python 3",
   "language": "python",
   "name": "python3"
  },
  "language_info": {
   "codemirror_mode": {
    "name": "ipython",
    "version": 3
   },
   "file_extension": ".py",
   "mimetype": "text/x-python",
   "name": "python",
   "nbconvert_exporter": "python",
   "pygments_lexer": "ipython3",
   "version": "3.8.8"
  }
 },
 "nbformat": 4,
 "nbformat_minor": 5
}
